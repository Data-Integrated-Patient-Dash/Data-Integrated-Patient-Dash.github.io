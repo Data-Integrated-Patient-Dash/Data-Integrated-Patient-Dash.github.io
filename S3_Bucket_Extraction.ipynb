{
 "cells": [
  {
   "cell_type": "markdown",
   "id": "0276131d",
   "metadata": {},
   "source": [
    "#### Imports"
   ]
  },
  {
   "cell_type": "code",
   "execution_count": 4,
   "id": "c20ec053",
   "metadata": {},
   "outputs": [],
   "source": [
    "import json\n",
    "import boto3\n",
    "import time"
   ]
  },
  {
   "cell_type": "markdown",
   "id": "ae30f38c",
   "metadata": {},
   "source": [
    "#### Global Variables"
   ]
  },
  {
   "cell_type": "code",
   "execution_count": 5,
   "id": "f906bb02",
   "metadata": {},
   "outputs": [],
   "source": [
    "# Set to the name of the AWS S3 bucket containing Apple Health json files\n",
    "s3BucketName = 'dsc180-data'"
   ]
  },
  {
   "cell_type": "markdown",
   "id": "88dea07b",
   "metadata": {},
   "source": [
    "#### Setup and listing files"
   ]
  },
  {
   "cell_type": "code",
   "execution_count": 66,
   "id": "088ac7fa",
   "metadata": {},
   "outputs": [],
   "source": [
    "s3 = boto3.resource(\"s3\")\n",
    "bucket = s3.Bucket(s3BucketName)\n",
    "\n",
    "# Loop through all the files in the bucket and append them to a list\n",
    "files = []\n",
    "for i in bucket.objects.all():\n",
    "    files.append(i.key)"
   ]
  },
  {
   "cell_type": "code",
   "execution_count": 67,
   "id": "75cc1937",
   "metadata": {},
   "outputs": [
    {
     "data": {
      "text/plain": [
       "['test_apple.json', 'test_apple_2.json']"
      ]
     },
     "execution_count": 67,
     "metadata": {},
     "output_type": "execute_result"
    }
   ],
   "source": [
    "files"
   ]
  },
  {
   "cell_type": "markdown",
   "id": "db02bdd6",
   "metadata": {},
   "source": [
    "#### The main part: Extracting the data from the s3 bucket"
   ]
  },
  {
   "cell_type": "code",
   "execution_count": 68,
   "id": "8141cd69",
   "metadata": {},
   "outputs": [],
   "source": [
    "s3 = boto3.client(\"s3\")\n",
    "\n",
    "OUT = []\n",
    "for x in files:\n",
    "    obj = s3.get_object(Bucket=s3BucketName, Key=x)\n",
    "    OUT.append(json.loads(obj['Body'].read().decode('utf-8')))"
   ]
  },
  {
   "cell_type": "code",
   "execution_count": 69,
   "id": "f2274999",
   "metadata": {},
   "outputs": [
    {
     "data": {
      "text/plain": [
       "[{'steps': 12866,\n",
       "  'heart_rate': 68,\n",
       "  'hrv': 34,\n",
       "  'blood_oxygen': 97,\n",
       "  'weight': 122,\n",
       "  'height': 65},\n",
       " {'steps': '12866',\n",
       "  'heart_rate': '68',\n",
       "  'hrv': '34',\n",
       "  'blood_oxygen': '97',\n",
       "  'weight': '122',\n",
       "  'height': '65'}]"
      ]
     },
     "execution_count": 69,
     "metadata": {},
     "output_type": "execute_result"
    }
   ],
   "source": [
    "OUT"
   ]
  }
 ],
 "metadata": {
  "kernelspec": {
   "display_name": "Python 3 (ipykernel)",
   "language": "python",
   "name": "python3"
  },
  "language_info": {
   "codemirror_mode": {
    "name": "ipython",
    "version": 3
   },
   "file_extension": ".py",
   "mimetype": "text/x-python",
   "name": "python",
   "nbconvert_exporter": "python",
   "pygments_lexer": "ipython3",
   "version": "3.9.7"
  }
 },
 "nbformat": 4,
 "nbformat_minor": 5
}
