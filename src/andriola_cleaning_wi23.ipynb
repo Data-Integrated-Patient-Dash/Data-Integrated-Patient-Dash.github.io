{
 "cells": [
  {
   "cell_type": "code",
   "execution_count": 209,
   "id": "0c63e48b",
   "metadata": {},
   "outputs": [],
   "source": [
    "import pandas as pd\n",
    "import numpy as np\n",
    "import sklearn\n",
    "import matplotlib.pyplot as plt\n",
    "import datetime"
   ]
  },
  {
   "cell_type": "code",
   "execution_count": 210,
   "id": "9cc14626",
   "metadata": {},
   "outputs": [],
   "source": [
    "#Oura cleaning\n",
    "oura_raw = pd.read_csv(\"transformed_andriola_data_v01/transformed_oura_ring_full.csv\", index_col = 0)\n",
    "oura_data = oura_raw.copy()\n",
    "\n",
    "#drop the null values\n",
    "#chosen over imputation because of the importance of spikes / drops\n",
    "#do you think we should replace missing values with a specific integer / value \n",
    "#so that it shows up in the vis as MISSING? Could be important for someone to see that their score wasn't recorded\n",
    "oura_data = oura_data.replace('None', np.nan)\n",
    "oura_data = oura_data.dropna()\n",
    "\n",
    "#dtype corrections\n",
    "#convert time from str to datetime\n",
    "oura_data[\"date\"] = pd.to_datetime(oura_data[\"date\"])\n",
    "oura_data[\"Bedtime Start\"] = pd.to_datetime(oura_data[\"Bedtime Start\"])\n",
    "oura_data[\"Bedtime End\"] = pd.to_datetime(oura_data[\"Bedtime End\"])\n",
    "\n",
    "#str to float\n",
    "str_to_float = ['Previous Night Score', 'Sleep Balance Score', 'Previous Day Activity Score', 'Activity Balance Score', 'HRV Balance Score', 'Temperature Trend Deviation']\n",
    "for col in str_to_float:\n",
    "    oura_data[col] = (oura_data[col]).astype(float)\n",
    "\n",
    "#int to float (just for standardization)\n",
    "for col in oura_data:\n",
    "    if oura_data[col].dtype == 'int64':\n",
    "        oura_data[col] = oura_data[col].astype(float)\n",
    "        \n",
    "oura_data = oura_data.reset_index(drop=True)\n"
   ]
  },
  {
   "cell_type": "code",
   "execution_count": 212,
   "id": "5907d07e",
   "metadata": {},
   "outputs": [],
   "source": [
    "#Arboleaf\n",
    "arboleaf_raw = pd.read_csv(\"transformed_andriola_data_v01/transformed_arboleaf_full.csv\", index_col = 0)\n",
    "arboleaf_data = arboleaf_raw.copy()\n",
    "\n",
    "#str to datetime\n",
    "arboleaf_data['Time of Measurement'] = arboleaf_data['Time of Measurement'].str.replace('，', '').str.replace(\" at \", \" \")\n",
    "arboleaf_data['Time of Measurement'] = pd.to_datetime(arboleaf_data['Time of Measurement'])\n",
    "\n",
    "#filling nan values\n",
    "arboleaf_data = arboleaf_data.drop(columns=[\"Muscle storage ability level\"])\n"
   ]
  },
  {
   "cell_type": "code",
   "execution_count": 254,
   "id": "6143b5c1",
   "metadata": {},
   "outputs": [],
   "source": [
    "#Apple Health Biometric Data\n",
    "biomet_raw = pd.read_csv(\"transformed_andriola_data_v01/transformed_biometrics_full.csv\", index_col = 0)\n",
    "biomet_data = biomet_raw.copy()\n",
    "\n",
    "\n",
    "biomet_data[\"Day\"] = pd.to_datetime(biomet_data[\"Day\"])\n",
    "biomet_data[\"Time\"] = pd.to_datetime(biomet_data[\"Time\"])\n",
    "\n",
    "#removing oura measurements, since we have that in the oura csv\n",
    "biomet_data = biomet_data[~biomet_data[\"Metric\"].str.contains(\"Oura\")]\n",
    "#nan values - once again, what's the best way to deal with this?\n",
    "biomet_data = biomet_data.dropna()"
   ]
  },
  {
   "cell_type": "code",
   "execution_count": null,
   "id": "913cfbac",
   "metadata": {},
   "outputs": [],
   "source": []
  },
  {
   "cell_type": "code",
   "execution_count": null,
   "id": "03db7fdd",
   "metadata": {},
   "outputs": [],
   "source": []
  },
  {
   "cell_type": "code",
   "execution_count": null,
   "id": "43ee9433",
   "metadata": {},
   "outputs": [],
   "source": []
  },
  {
   "cell_type": "code",
   "execution_count": null,
   "id": "40fb7e61",
   "metadata": {},
   "outputs": [],
   "source": []
  }
 ],
 "metadata": {
  "kernelspec": {
   "display_name": "Python 3",
   "language": "python",
   "name": "python3"
  },
  "language_info": {
   "codemirror_mode": {
    "name": "ipython",
    "version": 3
   },
   "file_extension": ".py",
   "mimetype": "text/x-python",
   "name": "python",
   "nbconvert_exporter": "python",
   "pygments_lexer": "ipython3",
   "version": "3.8.8"
  },
  "toc": {
   "base_numbering": 1,
   "nav_menu": {},
   "number_sections": true,
   "sideBar": true,
   "skip_h1_title": false,
   "title_cell": "Table of Contents",
   "title_sidebar": "Contents",
   "toc_cell": false,
   "toc_position": {},
   "toc_section_display": true,
   "toc_window_display": false
  }
 },
 "nbformat": 4,
 "nbformat_minor": 5
}
