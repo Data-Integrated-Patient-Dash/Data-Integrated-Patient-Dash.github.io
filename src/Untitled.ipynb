{
 "cells": [
  {
   "cell_type": "markdown",
   "id": "028e1232",
   "metadata": {},
   "source": [
    "### Temporary Notebook for EDA\n",
    "\n",
    "---"
   ]
  },
  {
   "cell_type": "markdown",
   "id": "9db601bb",
   "metadata": {},
   "source": [
    "#### Imports"
   ]
  },
  {
   "cell_type": "code",
   "execution_count": 1,
   "id": "61c94eff",
   "metadata": {},
   "outputs": [],
   "source": [
    "import os\n",
    "import numpy as np\n",
    "import pandas as pd"
   ]
  },
  {
   "cell_type": "markdown",
   "id": "3632fad8",
   "metadata": {},
   "source": [
    "#### Reading in the Data"
   ]
  },
  {
   "cell_type": "code",
   "execution_count": 20,
   "id": "54eb6501",
   "metadata": {},
   "outputs": [],
   "source": [
    "# Directory information\n",
    "fname = 'transformed_data'\n",
    "fp = os.path.join('/Users/nicolebrye/Desktop', fname)"
   ]
  },
  {
   "cell_type": "code",
   "execution_count": 18,
   "id": "abcdfba2",
   "metadata": {},
   "outputs": [],
   "source": [
    "def readData(fp):\n",
    "    '''\n",
    "    Given a file path, reads in a set of data\n",
    "    '''\n",
    "    \n",
    "    OUT = pd.read_csv(fp, index_col=[0])\n",
    "    \n",
    "    if OUT.index.name:\n",
    "        OUT = OUT.reset_index()\n",
    "        \n",
    "    return OUT"
   ]
  },
  {
   "cell_type": "code",
   "execution_count": null,
   "id": "526eb74e",
   "metadata": {},
   "outputs": [],
   "source": [
    "# List of files\n",
    "files = os.listdir(fp)\n",
    "dfs   = [readData(os.path.join(fp, i)) for i in files]"
   ]
  },
  {
   "cell_type": "markdown",
   "id": "eb9df283",
   "metadata": {},
   "source": [
    "---\n",
    "#### Working with DF[0]"
   ]
  },
  {
   "cell_type": "code",
   "execution_count": 47,
   "id": "6300faf8",
   "metadata": {},
   "outputs": [],
   "source": [
    "\n",
    "\n",
    "\n",
    "def cleanOura(df, thresh):\n",
    "    \n",
    "    '''\n",
    "    Preliminary cleaning for raw Oura Data\n",
    "    \n",
    "    :param df: DataFrame containing raw Oura Data\n",
    "    :param thresh: Number of missing values acceptable for each row (if number of NaN \n",
    "    values exceeds thresh, the entire row will be deleted)\n",
    "    :returns: A cleaned DataFrame\n",
    "    '''\n",
    "    \n",
    "    # Filter out rows with a specified number of missing values\n",
    "    over = (df.isna().sum(axis=1) > thresh)\n",
    "    OUT  = df.loc[~over]\n",
    "    \n",
    "    # Day of week feature\n",
    "    OUT = OUT.assign(date = pd.to_datetime(OUT['date']))\n",
    "    OUT = OUT.assign(day_name = OUT['date'].dt.day_name())\n",
    "    OUT = OUT.assign(is_weekend = OUT['day_name'].isin(['Saturday', 'Sunday']))\n",
    "    \n",
    "    return OUT\n"
   ]
  },
  {
   "cell_type": "code",
   "execution_count": 35,
   "id": "da12b1f9",
   "metadata": {},
   "outputs": [
    {
     "data": {
      "text/plain": [
       "0      False\n",
       "1      False\n",
       "2      False\n",
       "3      False\n",
       "4      False\n",
       "       ...  \n",
       "784     True\n",
       "785     True\n",
       "786     True\n",
       "787     True\n",
       "788     True\n",
       "Length: 789, dtype: bool"
      ]
     },
     "execution_count": 35,
     "metadata": {},
     "output_type": "execute_result"
    }
   ],
   "source": [
    "dfs[0].isna().sum(axis=1) > 10"
   ]
  },
  {
   "cell_type": "code",
   "execution_count": 50,
   "id": "6219da95",
   "metadata": {},
   "outputs": [],
   "source": [
    "cleaned = cleanOura(dfs[0], 10)"
   ]
  },
  {
   "cell_type": "code",
   "execution_count": 56,
   "id": "3b228636",
   "metadata": {},
   "outputs": [
    {
     "data": {
      "text/plain": [
       "date                            True\n",
       "Sleep Score                    False\n",
       "Total Sleep Score              False\n",
       "REM Sleep Score                False\n",
       "Deep Sleep Score               False\n",
       "Sleep Efficiency Score         False\n",
       "Restfulness Score              False\n",
       "Sleep Latency Score            False\n",
       "Sleep Timin Score              False\n",
       "Total Sleep Duration           False\n",
       "Total Bedtime                  False\n",
       "Awake Time                     False\n",
       "REM Sleep Duration             False\n",
       "Light Sleep Duration           False\n",
       "Deep Sleep Duration            False\n",
       "Restless Sleep                 False\n",
       "Sleep Efficiency               False\n",
       "Sleep Latency                  False\n",
       "Sleep Timing                   False\n",
       "Bedtime Start                  False\n",
       "Bedtime End                    False\n",
       "Average Resting Heart Rate     False\n",
       "Lowest Resting Heart Rate      False\n",
       "Average HRV                    False\n",
       "Temperature Deviation (°C)     False\n",
       "Temperature Trend Deviation    False\n",
       "Respiratory Rate               False\n",
       "Activity Score                 False\n",
       "Stay Active Score              False\n",
       "Move Every Hour Score          False\n",
       "Meet Daily Targets Score       False\n",
       "Training Frequency Score       False\n",
       "Training Volume Score          False\n",
       "Activity Burn                  False\n",
       "Total Burn                     False\n",
       "Steps                          False\n",
       "Equivalent Walking Distance    False\n",
       "Inactive Time                  False\n",
       "Rest Time                      False\n",
       "Low Activity Time              False\n",
       "Medium Activity Time           False\n",
       "High Activity Time             False\n",
       "Non-wear Time                  False\n",
       "Average MET                    False\n",
       "Long Periods of Inactivity     False\n",
       "Readiness Score                False\n",
       "Previous Night Score           False\n",
       "Sleep Balance Score            False\n",
       "Previous Day Activity Score    False\n",
       "Activity Balance Score         False\n",
       "Temperature Score              False\n",
       "Resting Heart Rate Score       False\n",
       "HRV Balance Score              False\n",
       "Recovery Index Score           False\n",
       "day_name                       False\n",
       "is_weekend                     False\n",
       "dtype: bool"
      ]
     },
     "execution_count": 56,
     "metadata": {},
     "output_type": "execute_result"
    }
   ],
   "source": [
    "cleaned.dtypes.astype(str).str.contains(\"datetime\")"
   ]
  },
  {
   "cell_type": "code",
   "execution_count": 91,
   "id": "6675d503",
   "metadata": {},
   "outputs": [
    {
     "data": {
      "text/plain": [
       "'sleep_score'"
      ]
     },
     "execution_count": 91,
     "metadata": {},
     "output_type": "execute_result"
    }
   ],
   "source": [
    "\"Sleep Score\".lower().replace(\" \", \"_\")"
   ]
  },
  {
   "cell_type": "code",
   "execution_count": 87,
   "id": "94ea81ad",
   "metadata": {},
   "outputs": [],
   "source": [
    "def linePrep(df, cols, start_date=None, end_date='Present'):\n",
    "    \n",
    "    '''\n",
    "    Preps the desired columns for line plotting. Will use a range\n",
    "    of dates to filter the data.\n",
    "    \n",
    "    :param df: Cleaned DataFrame\n",
    "    :param cols: A list of columns to prepare for line plotting\n",
    "    :start_date: A string in the format YYYY-MM-DD. If left as the default\n",
    "    (None), it will be set to the earliest date available.\n",
    "    :end_date: A string in the format YYYY-MM-DD. If left as the default\n",
    "    ('Present'), it will be set to the latest date available.\n",
    "    :returns: None\n",
    "    '''\n",
    "    \n",
    "    date_col = df.columns[df.dtypes.astype(str).str.contains('datetime')][0]\n",
    "    \n",
    "    # Setting the start and end Timestamps\n",
    "    sdate = pd.Timestamp(start_date)\n",
    "    if pd.isnull(sdate):\n",
    "        sdate = min(df[date_col])\n",
    "        \n",
    "    try:\n",
    "        edate = pd.Timestamp(end_date)\n",
    "    except:\n",
    "        edate = max(df[date_col])\n",
    "    \n",
    "    # Prepping the data\n",
    "    DFS = []\n",
    "    for x in cols:\n",
    "        \n",
    "        fname = x.lower().replace(' ', '_') + '_line.csv'\n",
    "        \n",
    "        sub = df[[date_col, x]]\n",
    "        sub = sub.loc[(sub['date'] >= sdate) & (sub['date'] <= edate)]\n",
    "        \n",
    "        sub.to_csv(os.path.join(output_dir, fname))\n",
    "        \n",
    "        "
   ]
  },
  {
   "cell_type": "code",
   "execution_count": 97,
   "id": "15ccb08b",
   "metadata": {},
   "outputs": [],
   "source": [
    "def corrPrep(df, cols, start_date=None, end_date='Present'):\n",
    "    \n",
    "    date_col = df.columns[df.dtypes.astype(str).str.contains('datetime')][0]\n",
    "    \n",
    "    # Setting the start and end Timestamps\n",
    "    sdate = pd.Timestamp(start_date)\n",
    "    if pd.isnull(sdate):\n",
    "        sdate = min(df[date_col])\n",
    "        \n",
    "    try:\n",
    "        edate = pd.Timestamp(end_date)\n",
    "    except:\n",
    "        edate = max(df[date_col])\n",
    "        \n",
    "    # Prepping the data\n",
    "    for x in cols:\n",
    "        \n",
    "        fname = x[0].lower().replace(' ', '') + '_' + \\\n",
    "                x[1].lower().replace(' ', '') + '_corr.csv'\n",
    "        \n",
    "        sub = df[[date_col, x[0], x[1]]]\n",
    "        sub = sub.loc[(sub['date'] >= sdate) & (sub['date'] <= edate)]\n",
    "        \n",
    "        # Calculate the Pearson correlation coefficient\n",
    "        corr = np.corrcoef(sub[x[0]], sub[x[1]])[0, 1]\n",
    "        \n",
    "        sub.to_csv(os.path.join(output_dir, fname))"
   ]
  },
  {
   "cell_type": "code",
   "execution_count": 98,
   "id": "cf1f8b46",
   "metadata": {},
   "outputs": [
    {
     "name": "stdout",
     "output_type": "stream",
     "text": [
      "0.78896018836758\n"
     ]
    }
   ],
   "source": [
    "corrPrep(cleaned, [[\"Sleep Score\", \"Deep Sleep Score\"]], start_date = '2022-06-07')"
   ]
  },
  {
   "cell_type": "code",
   "execution_count": 89,
   "id": "ad71f783",
   "metadata": {},
   "outputs": [
    {
     "name": "stdout",
     "output_type": "stream",
     "text": [
      "          date  Sleep Score\n",
      "774 2022-06-07         87.0\n",
      "775 2022-06-08         84.0\n",
      "776 2022-06-09         81.0\n",
      "777 2022-06-10         89.0\n",
      "778 2022-06-11         95.0\n"
     ]
    }
   ],
   "source": [
    "linePrep(cleaned, [\"Sleep Score\"], start_date = '2022-06-07')"
   ]
  },
  {
   "cell_type": "code",
   "execution_count": 99,
   "id": "f11afe6c",
   "metadata": {},
   "outputs": [],
   "source": [
    "import sys"
   ]
  },
  {
   "cell_type": "code",
   "execution_count": 108,
   "id": "924dcb60",
   "metadata": {},
   "outputs": [],
   "source": [
    "sys.path.insert(0, 'src')"
   ]
  },
  {
   "cell_type": "code",
   "execution_count": 109,
   "id": "eefbb26c",
   "metadata": {},
   "outputs": [
    {
     "data": {
      "text/plain": [
       "'/Users/nicolebrye/Desktop/DSC180A/medical-dashboarding-b01.github.io/src'"
      ]
     },
     "execution_count": 109,
     "metadata": {},
     "output_type": "execute_result"
    }
   ],
   "source": [
    "os.getcwd()"
   ]
  },
  {
   "cell_type": "code",
   "execution_count": null,
   "id": "eb666665",
   "metadata": {},
   "outputs": [],
   "source": []
  },
  {
   "cell_type": "code",
   "execution_count": 101,
   "id": "3d87d26b",
   "metadata": {},
   "outputs": [],
   "source": [
    "import json\n"
   ]
  },
  {
   "cell_type": "code",
   "execution_count": 113,
   "id": "38f2d92b",
   "metadata": {},
   "outputs": [
    {
     "data": {
      "text/plain": [
       "{'data_fp': 'data/raw', 'testdata_fp': 'test/testdata/raw'}"
      ]
     },
     "execution_count": 113,
     "metadata": {},
     "output_type": "execute_result"
    }
   ],
   "source": [
    "config = json.load(open(os.path.join('/Users/nicolebrye/Desktop/DSC180A/medical-dashboarding-b01.github.io',\n",
    "                                     'config/data-params.json')))\n",
    "config"
   ]
  },
  {
   "cell_type": "code",
   "execution_count": 114,
   "id": "c7bf2a81",
   "metadata": {},
   "outputs": [
    {
     "data": {
      "text/plain": [
       "'test/testdata/raw'"
      ]
     },
     "execution_count": 114,
     "metadata": {},
     "output_type": "execute_result"
    }
   ],
   "source": [
    "config['testdata_fp']"
   ]
  },
  {
   "cell_type": "code",
   "execution_count": 121,
   "id": "1ee35158",
   "metadata": {},
   "outputs": [],
   "source": [
    "dfs[0][-100:].to_csv('/Users/nicolebrye/Desktop/testdata.csv')"
   ]
  }
 ],
 "metadata": {
  "kernelspec": {
   "display_name": "Python 3 (ipykernel)",
   "language": "python",
   "name": "python3"
  },
  "language_info": {
   "codemirror_mode": {
    "name": "ipython",
    "version": 3
   },
   "file_extension": ".py",
   "mimetype": "text/x-python",
   "name": "python",
   "nbconvert_exporter": "python",
   "pygments_lexer": "ipython3",
   "version": "3.9.7"
  }
 },
 "nbformat": 4,
 "nbformat_minor": 5
}
